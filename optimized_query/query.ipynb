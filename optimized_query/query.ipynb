{
 "cells": [
  {
   "cell_type": "markdown",
   "metadata": {},
   "source": [
    "## Optimized Query"
   ]
  },
  {
   "cell_type": "code",
   "execution_count": null,
   "metadata": {
    "vscode": {
     "languageId": "sql"
    }
   },
   "outputs": [],
   "source": [
    "-- Optimized query\n",
    "SELECT\n",
    "    c.Name,\n",
    "    f.Role,\n",
    "    SUM(c.hours) AS Total_Tracked_Hours,\n",
    "    SUM(f.Estimed_Hours) AS Total_Allocated_Hours,\n",
    "    MAX(c.Date) AS Latest_Date  \n",
    "FROM\n",
    "    ClickUp c\n",
    "JOIN\n",
    "    Float f\n",
    "    ON c.Name = f.Name\n",
    "GROUP BY\n",
    "    c.Name,\n",
    "    f.Role\n",
    "HAVING\n",
    "    SUM(c.hours) > 100\n",
    "ORDER BY\n",
    "    Total_Allocated_Hours DESC;\n"
   ]
  },
  {
   "cell_type": "markdown",
   "metadata": {},
   "source": [
    "### Optimizations"
   ]
  },
  {
   "cell_type": "code",
   "execution_count": null,
   "metadata": {
    "vscode": {
     "languageId": "sql"
    }
   },
   "outputs": [],
   "source": [
    "MAX(c.Date) AS Latest_Date  "
   ]
  },
  {
   "cell_type": "markdown",
   "metadata": {},
   "source": [
    "- Since the `date` column isn't in the `GROUP BY` clause, I replaced it with `MAX(c.Date)`, assuming we want the latest date for each `Name` and `Role`. This makes the query simpler and keeps it logically correct."
   ]
  },
  {
   "cell_type": "code",
   "execution_count": null,
   "metadata": {
    "vscode": {
     "languageId": "sql"
    }
   },
   "outputs": [],
   "source": [
    "-- Index on `Name` in ClickUp and Flaot tables to optimize the JOIN operation\n",
    "CREATE INDEX idx_clickup_name ON ClickUp(Name);\n",
    "CREATE INDEX idx_float_name ON Float(Name);\n",
    "\n",
    "-- Index on `hours` in ClickUp table to optimize the aggregation and filtering in HAVING clause\n",
    "CREATE INDEX idx_clickup_hours ON ClickUp(hours);"
   ]
  },
  {
   "cell_type": "markdown",
   "metadata": {},
   "source": [
    "- I prefer indexing the `Name` column in both the `Clickup` and `Float` tables and the `hours` column on the `Clickup` table to improve the efficiency of the `JOIN` operation, especially with large datasets.  \n",
    "\n",
    "    The `Name` indexes will ensure that the database can efficiently match rows between the `ClickUp` and `Float` tables during the `JOIN` operation, also index on `hours` in the `ClickUp` table helps optimize the `SUM(c.hours)` aggregation and makes the filtering in the `HAVING` clause faster."
   ]
  },
  {
   "cell_type": "code",
   "execution_count": null,
   "metadata": {
    "vscode": {
     "languageId": "sql"
    }
   },
   "outputs": [],
   "source": [
    "CREATE TABLE ClickUp (\n",
    "    ...\n",
    "    PARTITION BY RANGE (YEAR(Date)) (\n",
    "        PARTITION p_2023 VALUES LESS THAN (2024),\n",
    "        PARTITION p_2024 VALUES LESS THAN (2025),\n",
    "        ...\n",
    "    );\n",
    ");"
   ]
  },
  {
   "cell_type": "markdown",
   "metadata": {},
   "source": [
    "- Partitioning the data by date is especially useful when dealing with large datasets. \n",
    "\n",
    "    It allows the database engine to focus only on the specific partitions needed, making queries like `SUM` or `JOIN` faster by reducing the amount of data it needs to scan."
   ]
  }
 ],
 "metadata": {
  "kernelspec": {
   "display_name": "venv",
   "language": "python",
   "name": "python3"
  },
  "language_info": {
   "codemirror_mode": {
    "name": "ipython",
    "version": 3
   },
   "file_extension": ".py",
   "mimetype": "text/x-python",
   "name": "python",
   "nbconvert_exporter": "python",
   "pygments_lexer": "ipython3",
   "version": "3.10.10"
  }
 },
 "nbformat": 4,
 "nbformat_minor": 2
}
